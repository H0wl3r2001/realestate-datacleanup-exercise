{
 "cells": [
  {
   "attachments": {},
   "cell_type": "markdown",
   "id": "c4e52ee5",
   "metadata": {},
   "source": [
    "## The dataset\n",
    "\n",
    "This is a real dataset and it was downloaded using web scraping techniques. The data contains registers from fotocasa which is one of the most popular websites of real estate in Spain. Please, do not do this (web scraping) unless it is for academic purposes.\n",
    "\n",
    "The dataset was downloaded a few years ago by Henry Navarro and In no case were economic returns obtained from it.\n",
    "\n",
    "It contains thousands of data from real homes published on the web www.fotocasa.com. Your goal is to extract as much information as possible with the knowledge you have so far about data science, for example what is the most expensive home in the entire dataset?\n",
    "\n",
    "Let's start with precisely that question... Good luck!\n"
   ]
  },
  {
   "attachments": {},
   "cell_type": "markdown",
   "id": "dd97255d",
   "metadata": {},
   "source": [
    "#### Read the dataset assets/real_estate.csv and try to visualize the table (★☆☆)"
   ]
  },
  {
   "cell_type": "code",
   "execution_count": 2,
   "id": "4b93d9c8",
   "metadata": {},
   "outputs": [
    {
     "data": {
      "text/html": [
       "<div>\n",
       "<style scoped>\n",
       "    .dataframe tbody tr th:only-of-type {\n",
       "        vertical-align: middle;\n",
       "    }\n",
       "\n",
       "    .dataframe tbody tr th {\n",
       "        vertical-align: top;\n",
       "    }\n",
       "\n",
       "    .dataframe thead th {\n",
       "        text-align: right;\n",
       "    }\n",
       "</style>\n",
       "<table border=\"1\" class=\"dataframe\">\n",
       "  <thead>\n",
       "    <tr style=\"text-align: right;\">\n",
       "      <th></th>\n",
       "      <th>Unnamed: 0</th>\n",
       "      <th>id_realEstates</th>\n",
       "      <th>isNew</th>\n",
       "      <th>realEstate_name</th>\n",
       "      <th>phone_realEstate</th>\n",
       "      <th>url_inmueble</th>\n",
       "      <th>rooms</th>\n",
       "      <th>bathrooms</th>\n",
       "      <th>surface</th>\n",
       "      <th>price</th>\n",
       "      <th>...</th>\n",
       "      <th>level4Id</th>\n",
       "      <th>level5Id</th>\n",
       "      <th>level6Id</th>\n",
       "      <th>level7Id</th>\n",
       "      <th>level8Id</th>\n",
       "      <th>accuracy</th>\n",
       "      <th>latitude</th>\n",
       "      <th>longitude</th>\n",
       "      <th>zipCode</th>\n",
       "      <th>customZone</th>\n",
       "    </tr>\n",
       "  </thead>\n",
       "  <tbody>\n",
       "    <tr>\n",
       "      <th>0</th>\n",
       "      <td>1</td>\n",
       "      <td>153771986</td>\n",
       "      <td>False</td>\n",
       "      <td>ferrari 57 inmobiliaria</td>\n",
       "      <td>912177526.0</td>\n",
       "      <td>https://www.fotocasa.es/es/comprar/vivienda/ma...</td>\n",
       "      <td>3.0</td>\n",
       "      <td>2.0</td>\n",
       "      <td>103.0</td>\n",
       "      <td>195000</td>\n",
       "      <td>...</td>\n",
       "      <td>0</td>\n",
       "      <td>0</td>\n",
       "      <td>0</td>\n",
       "      <td>0</td>\n",
       "      <td>0</td>\n",
       "      <td>0</td>\n",
       "      <td>40,2948276786438</td>\n",
       "      <td>-3,44402412135624</td>\n",
       "      <td>NaN</td>\n",
       "      <td>NaN</td>\n",
       "    </tr>\n",
       "    <tr>\n",
       "      <th>1</th>\n",
       "      <td>2</td>\n",
       "      <td>153867863</td>\n",
       "      <td>False</td>\n",
       "      <td>tecnocasa fuenlabrada ferrocarril</td>\n",
       "      <td>916358736.0</td>\n",
       "      <td>https://www.fotocasa.es/es/comprar/vivienda/ma...</td>\n",
       "      <td>3.0</td>\n",
       "      <td>1.0</td>\n",
       "      <td>NaN</td>\n",
       "      <td>89000</td>\n",
       "      <td>...</td>\n",
       "      <td>0</td>\n",
       "      <td>0</td>\n",
       "      <td>0</td>\n",
       "      <td>0</td>\n",
       "      <td>0</td>\n",
       "      <td>1</td>\n",
       "      <td>40,28674</td>\n",
       "      <td>-3,79351</td>\n",
       "      <td>NaN</td>\n",
       "      <td>NaN</td>\n",
       "    </tr>\n",
       "    <tr>\n",
       "      <th>2</th>\n",
       "      <td>3</td>\n",
       "      <td>153430440</td>\n",
       "      <td>False</td>\n",
       "      <td>look find boadilla</td>\n",
       "      <td>916350408.0</td>\n",
       "      <td>https://www.fotocasa.es/es/comprar/vivienda/ma...</td>\n",
       "      <td>2.0</td>\n",
       "      <td>2.0</td>\n",
       "      <td>99.0</td>\n",
       "      <td>390000</td>\n",
       "      <td>...</td>\n",
       "      <td>0</td>\n",
       "      <td>0</td>\n",
       "      <td>0</td>\n",
       "      <td>0</td>\n",
       "      <td>0</td>\n",
       "      <td>0</td>\n",
       "      <td>40,4115646786438</td>\n",
       "      <td>-3,90662252135624</td>\n",
       "      <td>NaN</td>\n",
       "      <td>NaN</td>\n",
       "    </tr>\n",
       "    <tr>\n",
       "      <th>3</th>\n",
       "      <td>4</td>\n",
       "      <td>152776331</td>\n",
       "      <td>False</td>\n",
       "      <td>tecnocasa fuenlabrada ferrocarril</td>\n",
       "      <td>916358736.0</td>\n",
       "      <td>https://www.fotocasa.es/es/comprar/vivienda/ma...</td>\n",
       "      <td>3.0</td>\n",
       "      <td>1.0</td>\n",
       "      <td>86.0</td>\n",
       "      <td>89000</td>\n",
       "      <td>...</td>\n",
       "      <td>0</td>\n",
       "      <td>0</td>\n",
       "      <td>0</td>\n",
       "      <td>0</td>\n",
       "      <td>0</td>\n",
       "      <td>0</td>\n",
       "      <td>40,2853785786438</td>\n",
       "      <td>-3,79508142135624</td>\n",
       "      <td>NaN</td>\n",
       "      <td>NaN</td>\n",
       "    </tr>\n",
       "    <tr>\n",
       "      <th>4</th>\n",
       "      <td>5</td>\n",
       "      <td>153180188</td>\n",
       "      <td>False</td>\n",
       "      <td>ferrari 57 inmobiliaria</td>\n",
       "      <td>912177526.0</td>\n",
       "      <td>https://www.fotocasa.es/es/comprar/vivienda/ma...</td>\n",
       "      <td>2.0</td>\n",
       "      <td>2.0</td>\n",
       "      <td>106.0</td>\n",
       "      <td>172000</td>\n",
       "      <td>...</td>\n",
       "      <td>0</td>\n",
       "      <td>0</td>\n",
       "      <td>0</td>\n",
       "      <td>0</td>\n",
       "      <td>0</td>\n",
       "      <td>0</td>\n",
       "      <td>40,2998774864376</td>\n",
       "      <td>-3,45226301356237</td>\n",
       "      <td>NaN</td>\n",
       "      <td>NaN</td>\n",
       "    </tr>\n",
       "    <tr>\n",
       "      <th>...</th>\n",
       "      <td>...</td>\n",
       "      <td>...</td>\n",
       "      <td>...</td>\n",
       "      <td>...</td>\n",
       "      <td>...</td>\n",
       "      <td>...</td>\n",
       "      <td>...</td>\n",
       "      <td>...</td>\n",
       "      <td>...</td>\n",
       "      <td>...</td>\n",
       "      <td>...</td>\n",
       "      <td>...</td>\n",
       "      <td>...</td>\n",
       "      <td>...</td>\n",
       "      <td>...</td>\n",
       "      <td>...</td>\n",
       "      <td>...</td>\n",
       "      <td>...</td>\n",
       "      <td>...</td>\n",
       "      <td>...</td>\n",
       "      <td>...</td>\n",
       "    </tr>\n",
       "    <tr>\n",
       "      <th>15330</th>\n",
       "      <td>15331</td>\n",
       "      <td>153901377</td>\n",
       "      <td>False</td>\n",
       "      <td>infocasa consulting</td>\n",
       "      <td>911360461.0</td>\n",
       "      <td>https://www.fotocasa.es/es/comprar/vivienda/ma...</td>\n",
       "      <td>2.0</td>\n",
       "      <td>1.0</td>\n",
       "      <td>96.0</td>\n",
       "      <td>259470</td>\n",
       "      <td>...</td>\n",
       "      <td>0</td>\n",
       "      <td>0</td>\n",
       "      <td>0</td>\n",
       "      <td>0</td>\n",
       "      <td>0</td>\n",
       "      <td>0</td>\n",
       "      <td>40,45416</td>\n",
       "      <td>-3,70286</td>\n",
       "      <td>NaN</td>\n",
       "      <td>NaN</td>\n",
       "    </tr>\n",
       "    <tr>\n",
       "      <th>15331</th>\n",
       "      <td>15332</td>\n",
       "      <td>150394373</td>\n",
       "      <td>False</td>\n",
       "      <td>inmobiliaria pulpon</td>\n",
       "      <td>912788039.0</td>\n",
       "      <td>https://www.fotocasa.es/es/comprar/vivienda/ma...</td>\n",
       "      <td>3.0</td>\n",
       "      <td>1.0</td>\n",
       "      <td>150.0</td>\n",
       "      <td>165000</td>\n",
       "      <td>...</td>\n",
       "      <td>0</td>\n",
       "      <td>0</td>\n",
       "      <td>0</td>\n",
       "      <td>0</td>\n",
       "      <td>0</td>\n",
       "      <td>0</td>\n",
       "      <td>40,36652</td>\n",
       "      <td>-3,48951</td>\n",
       "      <td>NaN</td>\n",
       "      <td>NaN</td>\n",
       "    </tr>\n",
       "    <tr>\n",
       "      <th>15332</th>\n",
       "      <td>15333</td>\n",
       "      <td>153901397</td>\n",
       "      <td>False</td>\n",
       "      <td>tecnocasa torrelodones</td>\n",
       "      <td>912780348.0</td>\n",
       "      <td>https://www.fotocasa.es/es/comprar/vivienda/ma...</td>\n",
       "      <td>4.0</td>\n",
       "      <td>2.0</td>\n",
       "      <td>175.0</td>\n",
       "      <td>495000</td>\n",
       "      <td>...</td>\n",
       "      <td>0</td>\n",
       "      <td>0</td>\n",
       "      <td>0</td>\n",
       "      <td>0</td>\n",
       "      <td>0</td>\n",
       "      <td>0</td>\n",
       "      <td>40,57444</td>\n",
       "      <td>-3,92124</td>\n",
       "      <td>NaN</td>\n",
       "      <td>NaN</td>\n",
       "    </tr>\n",
       "    <tr>\n",
       "      <th>15333</th>\n",
       "      <td>15334</td>\n",
       "      <td>152607440</td>\n",
       "      <td>False</td>\n",
       "      <td>inmobiliaria pulpon</td>\n",
       "      <td>912788039.0</td>\n",
       "      <td>https://www.fotocasa.es/es/comprar/vivienda/ma...</td>\n",
       "      <td>3.0</td>\n",
       "      <td>2.0</td>\n",
       "      <td>101.0</td>\n",
       "      <td>195000</td>\n",
       "      <td>...</td>\n",
       "      <td>0</td>\n",
       "      <td>0</td>\n",
       "      <td>0</td>\n",
       "      <td>0</td>\n",
       "      <td>0</td>\n",
       "      <td>0</td>\n",
       "      <td>40,36967</td>\n",
       "      <td>-3,48105</td>\n",
       "      <td>NaN</td>\n",
       "      <td>NaN</td>\n",
       "    </tr>\n",
       "    <tr>\n",
       "      <th>15334</th>\n",
       "      <td>15335</td>\n",
       "      <td>153901356</td>\n",
       "      <td>False</td>\n",
       "      <td>infocasa consulting</td>\n",
       "      <td>911360461.0</td>\n",
       "      <td>https://www.fotocasa.es/es/comprar/vivienda/ma...</td>\n",
       "      <td>3.0</td>\n",
       "      <td>2.0</td>\n",
       "      <td>152.0</td>\n",
       "      <td>765000</td>\n",
       "      <td>...</td>\n",
       "      <td>0</td>\n",
       "      <td>0</td>\n",
       "      <td>0</td>\n",
       "      <td>0</td>\n",
       "      <td>0</td>\n",
       "      <td>0</td>\n",
       "      <td>40,45773</td>\n",
       "      <td>-3,69068</td>\n",
       "      <td>NaN</td>\n",
       "      <td>NaN</td>\n",
       "    </tr>\n",
       "  </tbody>\n",
       "</table>\n",
       "<p>15335 rows × 37 columns</p>\n",
       "</div>"
      ],
      "text/plain": [
       "       Unnamed: 0  id_realEstates  isNew                    realEstate_name  \\\n",
       "0               1       153771986  False            ferrari 57 inmobiliaria   \n",
       "1               2       153867863  False  tecnocasa fuenlabrada ferrocarril   \n",
       "2               3       153430440  False                 look find boadilla   \n",
       "3               4       152776331  False  tecnocasa fuenlabrada ferrocarril   \n",
       "4               5       153180188  False            ferrari 57 inmobiliaria   \n",
       "...           ...             ...    ...                                ...   \n",
       "15330       15331       153901377  False                infocasa consulting   \n",
       "15331       15332       150394373  False                inmobiliaria pulpon   \n",
       "15332       15333       153901397  False             tecnocasa torrelodones   \n",
       "15333       15334       152607440  False                inmobiliaria pulpon   \n",
       "15334       15335       153901356  False                infocasa consulting   \n",
       "\n",
       "       phone_realEstate                                       url_inmueble  \\\n",
       "0           912177526.0  https://www.fotocasa.es/es/comprar/vivienda/ma...   \n",
       "1           916358736.0  https://www.fotocasa.es/es/comprar/vivienda/ma...   \n",
       "2           916350408.0  https://www.fotocasa.es/es/comprar/vivienda/ma...   \n",
       "3           916358736.0  https://www.fotocasa.es/es/comprar/vivienda/ma...   \n",
       "4           912177526.0  https://www.fotocasa.es/es/comprar/vivienda/ma...   \n",
       "...                 ...                                                ...   \n",
       "15330       911360461.0  https://www.fotocasa.es/es/comprar/vivienda/ma...   \n",
       "15331       912788039.0  https://www.fotocasa.es/es/comprar/vivienda/ma...   \n",
       "15332       912780348.0  https://www.fotocasa.es/es/comprar/vivienda/ma...   \n",
       "15333       912788039.0  https://www.fotocasa.es/es/comprar/vivienda/ma...   \n",
       "15334       911360461.0  https://www.fotocasa.es/es/comprar/vivienda/ma...   \n",
       "\n",
       "       rooms  bathrooms  surface   price  ... level4Id level5Id level6Id  \\\n",
       "0        3.0        2.0    103.0  195000  ...        0        0        0   \n",
       "1        3.0        1.0      NaN   89000  ...        0        0        0   \n",
       "2        2.0        2.0     99.0  390000  ...        0        0        0   \n",
       "3        3.0        1.0     86.0   89000  ...        0        0        0   \n",
       "4        2.0        2.0    106.0  172000  ...        0        0        0   \n",
       "...      ...        ...      ...     ...  ...      ...      ...      ...   \n",
       "15330    2.0        1.0     96.0  259470  ...        0        0        0   \n",
       "15331    3.0        1.0    150.0  165000  ...        0        0        0   \n",
       "15332    4.0        2.0    175.0  495000  ...        0        0        0   \n",
       "15333    3.0        2.0    101.0  195000  ...        0        0        0   \n",
       "15334    3.0        2.0    152.0  765000  ...        0        0        0   \n",
       "\n",
       "      level7Id level8Id accuracy          latitude          longitude zipCode  \\\n",
       "0            0        0        0  40,2948276786438  -3,44402412135624     NaN   \n",
       "1            0        0        1          40,28674           -3,79351     NaN   \n",
       "2            0        0        0  40,4115646786438  -3,90662252135624     NaN   \n",
       "3            0        0        0  40,2853785786438  -3,79508142135624     NaN   \n",
       "4            0        0        0  40,2998774864376  -3,45226301356237     NaN   \n",
       "...        ...      ...      ...               ...                ...     ...   \n",
       "15330        0        0        0          40,45416           -3,70286     NaN   \n",
       "15331        0        0        0          40,36652           -3,48951     NaN   \n",
       "15332        0        0        0          40,57444           -3,92124     NaN   \n",
       "15333        0        0        0          40,36967           -3,48105     NaN   \n",
       "15334        0        0        0          40,45773           -3,69068     NaN   \n",
       "\n",
       "      customZone  \n",
       "0            NaN  \n",
       "1            NaN  \n",
       "2            NaN  \n",
       "3            NaN  \n",
       "4            NaN  \n",
       "...          ...  \n",
       "15330        NaN  \n",
       "15331        NaN  \n",
       "15332        NaN  \n",
       "15333        NaN  \n",
       "15334        NaN  \n",
       "\n",
       "[15335 rows x 37 columns]"
      ]
     },
     "execution_count": 2,
     "metadata": {},
     "output_type": "execute_result"
    }
   ],
   "source": [
    "import pandas as pd\n",
    "# this CSV file contains semicolons instead of comas as separator\n",
    "ds = pd.read_csv('assets/real_estate.csv', sep=';')\n",
    "ds"
   ]
  },
  {
   "attachments": {},
   "cell_type": "markdown",
   "id": "40631cd6",
   "metadata": {},
   "source": [
    "#### What is the most expensive home in the dataset? (★☆☆)"
   ]
  },
  {
   "cell_type": "code",
   "execution_count": 3,
   "id": "8a758bcf",
   "metadata": {},
   "outputs": [
    {
     "data": {
      "text/plain": [
       "Unnamed: 0                                                      13111\n",
       "id_realEstates                                              132042636\n",
       "isNew                                                           False\n",
       "realEstate_name                            engel volkers torrelodones\n",
       "phone_realEstate                                          911798512.0\n",
       "url_inmueble        https://www.fotocasa.es/es/comprar/vivienda/vi...\n",
       "rooms                                                            19.0\n",
       "bathrooms                                                         NaN\n",
       "surface                                                           NaN\n",
       "price                                                         8500000\n",
       "date                                             2019-12-19T12:29:00Z\n",
       "description         El Palacio de El Enebral, la finca fue propied...\n",
       "address                                                   El Escorial\n",
       "country                                                        España\n",
       "level1                                                         Madrid\n",
       "level2                                                         Madrid\n",
       "level3                                                  Zona Noroeste\n",
       "level4                                           El Escorial, Zona de\n",
       "level5                                                    El Escorial\n",
       "level6                                                            NaN\n",
       "level7                                             Centro - Manquilla\n",
       "level8                                                            NaN\n",
       "upperLevel                                         Centro - Manquilla\n",
       "countryId                                                           0\n",
       "level1Id                                                            0\n",
       "level2Id                                                            0\n",
       "level3Id                                                            0\n",
       "level4Id                                                            0\n",
       "level5Id                                                            0\n",
       "level6Id                                                            0\n",
       "level7Id                                                            0\n",
       "level8Id                                                            0\n",
       "accuracy                                                            0\n",
       "latitude                                             40,5830801751782\n",
       "longitude                                           -4,12951942848611\n",
       "zipCode                                                           NaN\n",
       "customZone                                                        NaN\n",
       "Name: 13110, dtype: object"
      ]
     },
     "execution_count": 3,
     "metadata": {},
     "output_type": "execute_result"
    }
   ],
   "source": [
    "ds.sort_values(by='price', ascending=False).iloc[0]"
   ]
  },
  {
   "attachments": {},
   "cell_type": "markdown",
   "id": "0a708990",
   "metadata": {},
   "source": [
    "#### What is cheapest home in the dataset? (★☆☆)"
   ]
  },
  {
   "cell_type": "code",
   "execution_count": 4,
   "id": "477e01f4",
   "metadata": {},
   "outputs": [
    {
     "data": {
      "text/plain": [
       "Unnamed: 0                                                       1004\n",
       "id_realEstates                                              154000828\n",
       "isNew                                                            True\n",
       "realEstate_name                                              cr homes\n",
       "phone_realEstate                                          914890664.0\n",
       "url_inmueble        https://www.fotocasa.es/es/comprar/vivienda/ma...\n",
       "rooms                                                             3.0\n",
       "bathrooms                                                         2.0\n",
       "surface                                                         104.0\n",
       "price                                                               0\n",
       "date                                             2019-12-28T10:30:00Z\n",
       "description         C.R. HOMES INMOBILIARIA VENDE VIVIENDA EN GETA...\n",
       "address                         Paseo del Licenciado Vidriera, Getafe\n",
       "country                                                        España\n",
       "level1                                                         Madrid\n",
       "level2                                                         Madrid\n",
       "level3                                             Zona Sur de Madrid\n",
       "level4                                                Getafe, Zona de\n",
       "level5                                                         Getafe\n",
       "level6                                                            NaN\n",
       "level7                                                    Los Molinos\n",
       "level8                                                            NaN\n",
       "upperLevel                                                Los Molinos\n",
       "countryId                                                           0\n",
       "level1Id                                                            0\n",
       "level2Id                                                            0\n",
       "level3Id                                                            0\n",
       "level4Id                                                            0\n",
       "level5Id                                                            0\n",
       "level6Id                                                            0\n",
       "level7Id                                                            0\n",
       "level8Id                                                            0\n",
       "accuracy                                                            0\n",
       "latitude                                                   40,3152732\n",
       "longitude                                                  -3,7057332\n",
       "zipCode                                                           NaN\n",
       "customZone                                                        NaN\n",
       "Name: 1003, dtype: object"
      ]
     },
     "execution_count": 4,
     "metadata": {},
     "output_type": "execute_result"
    }
   ],
   "source": [
    "ds.sort_values(by='price').iloc[0]"
   ]
  },
  {
   "cell_type": "markdown",
   "id": "3c0bad9b",
   "metadata": {},
   "source": [
    "This is most likely a false entry, or a wrong input on the price... We can do this to determine which is in fact the most likely."
   ]
  },
  {
   "cell_type": "code",
   "execution_count": 5,
   "id": "8006b5c4",
   "metadata": {},
   "outputs": [
    {
     "data": {
      "text/plain": [
       "Unnamed: 0                                                       7492\n",
       "id_realEstates                                              153977752\n",
       "isNew                                                           False\n",
       "realEstate_name                                       redpiso coslada\n",
       "phone_realEstate                                          910759552.0\n",
       "url_inmueble        https://www.fotocasa.es/es/comprar/vivienda/ma...\n",
       "rooms                                                             3.0\n",
       "bathrooms                                                         1.0\n",
       "surface                                                          80.0\n",
       "price                                                             600\n",
       "date                                             2019-12-24T12:56:00Z\n",
       "description         REDPISO COSLADA alquila vivienda en Ciudad 70,...\n",
       "address                                               Berlin, Coslada\n",
       "country                                                        España\n",
       "level1                                                         Madrid\n",
       "level2                                                         Madrid\n",
       "level3                                           Corredor del Henares\n",
       "level4                                               Coslada, Zona de\n",
       "level5                                                        Coslada\n",
       "level6                                                            NaN\n",
       "level7                                                      Ciudad 70\n",
       "level8                                                            NaN\n",
       "upperLevel                                                  Ciudad 70\n",
       "countryId                                                           0\n",
       "level1Id                                                            0\n",
       "level2Id                                                            0\n",
       "level3Id                                                            0\n",
       "level4Id                                                            0\n",
       "level5Id                                                            0\n",
       "level6Id                                                            0\n",
       "level7Id                                                            0\n",
       "level8Id                                                            0\n",
       "accuracy                                                            0\n",
       "latitude                                                     40,41869\n",
       "longitude                                                    -3,54004\n",
       "zipCode                                                           NaN\n",
       "customZone                                                        NaN\n",
       "Name: 7491, dtype: object"
      ]
     },
     "execution_count": 5,
     "metadata": {},
     "output_type": "execute_result"
    }
   ],
   "source": [
    "ds1 = ds[ds['price'] != 0]\n",
    "\n",
    "ds1.sort_values(by='price').iloc[0]"
   ]
  },
  {
   "attachments": {},
   "cell_type": "markdown",
   "id": "0b16cd77",
   "metadata": {},
   "source": [
    "#### What is the biggest and the smallest home in the dataset? (★☆☆)"
   ]
  },
  {
   "cell_type": "code",
   "execution_count": 6,
   "id": "4d9b5975",
   "metadata": {},
   "outputs": [
    {
     "data": {
      "text/plain": [
       "Unnamed: 0                                                        499\n",
       "id_realEstates                                              152817874\n",
       "isNew                                                           False\n",
       "realEstate_name                                              toledo21\n",
       "phone_realEstate                                          910757382.0\n",
       "url_inmueble        https://www.fotocasa.es/es/comprar/vivienda/ma...\n",
       "rooms                                                             1.0\n",
       "bathrooms                                                         1.0\n",
       "surface                                                          15.0\n",
       "price                                                           85000\n",
       "date                                     2019-12-28T19:04:44.6433814Z\n",
       "description         ¡NO BUSQUES MÁS, YA LA HAS ENCONTRADO! . \\n \\n...\n",
       "address                                 Calle Amparo,  Madrid Capital\n",
       "country                                                        España\n",
       "level1                                                         Madrid\n",
       "level2                                                         Madrid\n",
       "level3                                                Madrid, Zona de\n",
       "level4                                                            NaN\n",
       "level5                                                 Madrid Capital\n",
       "level6                                                            NaN\n",
       "level7                                                         Centro\n",
       "level8                                         Embajadores - Lavapiés\n",
       "upperLevel                                     Embajadores - Lavapiés\n",
       "countryId                                                           0\n",
       "level1Id                                                            0\n",
       "level2Id                                                            0\n",
       "level3Id                                                            0\n",
       "level4Id                                                            0\n",
       "level5Id                                                            0\n",
       "level6Id                                                            0\n",
       "level7Id                                                            0\n",
       "level8Id                                                            0\n",
       "accuracy                                                            0\n",
       "latitude                                                     40,40818\n",
       "longitude                                                    -3,70192\n",
       "zipCode                                                           NaN\n",
       "customZone                                                        NaN\n",
       "Name: 498, dtype: object"
      ]
     },
     "execution_count": 6,
     "metadata": {},
     "output_type": "execute_result"
    }
   ],
   "source": [
    "#biggest\n",
    "ds.sort_values(by='surface', ascending=False).iloc[0]\n",
    "\n",
    "#smallest\n",
    "ds.sort_values(by='surface').iloc[0]"
   ]
  },
  {
   "attachments": {},
   "cell_type": "markdown",
   "id": "782d4c77",
   "metadata": {},
   "source": [
    "#### How many populations (level5) the dataset contains? (★☆☆)"
   ]
  },
  {
   "cell_type": "code",
   "execution_count": 7,
   "id": "5dbe1a08",
   "metadata": {},
   "outputs": [
    {
     "data": {
      "text/plain": [
       "168"
      ]
     },
     "execution_count": 7,
     "metadata": {},
     "output_type": "execute_result"
    }
   ],
   "source": [
    "ds['level5'].nunique()"
   ]
  },
  {
   "attachments": {},
   "cell_type": "markdown",
   "id": "48d48f01",
   "metadata": {},
   "source": [
    "#### Does the dataset contain NAs? (★☆☆)\n"
   ]
  },
  {
   "cell_type": "code",
   "execution_count": 8,
   "id": "3ed233e7",
   "metadata": {},
   "outputs": [
    {
     "data": {
      "text/plain": [
       "True"
      ]
     },
     "execution_count": 8,
     "metadata": {},
     "output_type": "execute_result"
    }
   ],
   "source": [
    "ds.isnull().values.any()"
   ]
  },
  {
   "attachments": {},
   "cell_type": "markdown",
   "id": "4fa39382",
   "metadata": {},
   "source": [
    "#### Delete the NAs of the dataset, if applicable (★★☆)"
   ]
  },
  {
   "cell_type": "code",
   "execution_count": 9,
   "id": "c97757ec",
   "metadata": {},
   "outputs": [
    {
     "name": "stdout",
     "output_type": "stream",
     "text": [
      "         Unnamed: 0  id_realEstates         price  countryId  level1Id  \\\n",
      "count  15335.000000    1.533500e+04  1.533500e+04    15335.0   15335.0   \n",
      "mean    7668.000000    1.524371e+08  4.773036e+05        0.0       0.0   \n",
      "std     4426.977524    2.277286e+06  5.912942e+05        0.0       0.0   \n",
      "min        1.000000    1.221584e+08  0.000000e+00        0.0       0.0   \n",
      "25%     3834.500000    1.519456e+08  1.690000e+05        0.0       0.0   \n",
      "50%     7668.000000    1.532413e+08  2.800000e+05        0.0       0.0   \n",
      "75%    11501.500000    1.538105e+08  5.400000e+05        0.0       0.0   \n",
      "max    15335.000000    1.540033e+08  8.500000e+06        0.0       0.0   \n",
      "\n",
      "       level2Id  level3Id  level4Id  level5Id  level6Id  level7Id  level8Id  \\\n",
      "count   15335.0   15335.0   15335.0   15335.0   15335.0   15335.0   15335.0   \n",
      "mean        0.0       0.0       0.0       0.0       0.0       0.0       0.0   \n",
      "std         0.0       0.0       0.0       0.0       0.0       0.0       0.0   \n",
      "min         0.0       0.0       0.0       0.0       0.0       0.0       0.0   \n",
      "25%         0.0       0.0       0.0       0.0       0.0       0.0       0.0   \n",
      "50%         0.0       0.0       0.0       0.0       0.0       0.0       0.0   \n",
      "75%         0.0       0.0       0.0       0.0       0.0       0.0       0.0   \n",
      "max         0.0       0.0       0.0       0.0       0.0       0.0       0.0   \n",
      "\n",
      "           accuracy  \n",
      "count  15335.000000  \n",
      "mean       0.166873  \n",
      "std        0.372875  \n",
      "min        0.000000  \n",
      "25%        0.000000  \n",
      "50%        0.000000  \n",
      "75%        0.000000  \n",
      "max        1.000000  \n"
     ]
    }
   ],
   "source": [
    "ds2=ds.dropna()\n",
    "\n",
    "ds2\n",
    "\n",
    "ds2 = ds.dropna(axis=1)\n",
    "pd.set_option('display.max_columns', None)\n",
    "ds2\n",
    "print(ds2.describe())"
   ]
  },
  {
   "cell_type": "markdown",
   "id": "af6f2da0",
   "metadata": {},
   "source": [
    "It is not that applicable to eliminate rows with NAN values, since all entries have at least one NAN value, but we can eliminate the rows which have them. Eliminating 12 of them, we have a dataframe that is fully without them. But this dataframe does not have key columns needed for the project, so the final answer is no, the resulting dataframe is not useful."
   ]
  },
  {
   "attachments": {},
   "cell_type": "markdown",
   "id": "0e5f76de",
   "metadata": {},
   "source": [
    "#### What is the mean of prices in the population (level5) of \"Arroyomolinos (Madrid)\"? (★★☆)"
   ]
  },
  {
   "cell_type": "code",
   "execution_count": 10,
   "id": "327f7adb",
   "metadata": {},
   "outputs": [
    {
     "data": {
      "text/plain": [
       "294541.59854014596"
      ]
     },
     "execution_count": 10,
     "metadata": {},
     "output_type": "execute_result"
    }
   ],
   "source": [
    "arroyolinos = ds[ds['level5'].isin(['Arroyomolinos (Madrid)'])]\n",
    "arroyolinos['price'].mean()"
   ]
  },
  {
   "attachments": {},
   "cell_type": "markdown",
   "id": "89b548e3",
   "metadata": {},
   "source": [
    "#### Plot the histogram of prices for the population (level5) of \"Arroyomolinos (Madrid)\" and explain what you observe (★★☆)"
   ]
  },
  {
   "cell_type": "code",
   "execution_count": 11,
   "id": "2ba51bf7",
   "metadata": {},
   "outputs": [
    {
     "data": {
      "text/plain": [
       "array([[<Axes: title={'center': 'price'}>]], dtype=object)"
      ]
     },
     "execution_count": 11,
     "metadata": {},
     "output_type": "execute_result"
    },
    {
     "data": {
      "image/png": "[encoded data removed]",
      "text/plain": [
       "<Figure size 640x480 with 1 Axes>"
      ]
     },
     "metadata": {},
     "output_type": "display_data"
    }
   ],
   "source": [
    "arroyolinos.hist('price')"
   ]
  },
  {
   "cell_type": "markdown",
   "id": "6d43c615",
   "metadata": {},
   "source": [
    "We can see that the cost of living in Arroyomolinos is aorund 300000 and the majority of places don't fluctuate too much from the mean."
   ]
  },
  {
   "cell_type": "markdown",
   "id": "d24dbb52",
   "metadata": {},
   "source": [
    "What I can see is that the prices are really close to the price mean of the region. Therefore, the mean is a good indicative of "
   ]
  },
  {
   "attachments": {},
   "cell_type": "markdown",
   "id": "c86dc493",
   "metadata": {},
   "source": [
    "#### Now let's work with the \"south belt\" of madrid. Make a subsetting that contains the following populations (level5): \"Fuenlabrada\",\"Leganés\",\"Getafe\",\"Alcorcón\" (★★☆) "
   ]
  },
  {
   "cell_type": "code",
   "execution_count": 12,
   "id": "5280d0cb",
   "metadata": {},
   "outputs": [
    {
     "data": {
      "text/html": [
       "<div>\n",
       "<style scoped>\n",
       "    .dataframe tbody tr th:only-of-type {\n",
       "        vertical-align: middle;\n",
       "    }\n",
       "\n",
       "    .dataframe tbody tr th {\n",
       "        vertical-align: top;\n",
       "    }\n",
       "\n",
       "    .dataframe thead th {\n",
       "        text-align: right;\n",
       "    }\n",
       "</style>\n",
       "<table border=\"1\" class=\"dataframe\">\n",
       "  <thead>\n",
       "    <tr style=\"text-align: right;\">\n",
       "      <th></th>\n",
       "      <th>Unnamed: 0</th>\n",
       "      <th>id_realEstates</th>\n",
       "      <th>isNew</th>\n",
       "      <th>realEstate_name</th>\n",
       "      <th>phone_realEstate</th>\n",
       "      <th>url_inmueble</th>\n",
       "      <th>rooms</th>\n",
       "      <th>bathrooms</th>\n",
       "      <th>surface</th>\n",
       "      <th>price</th>\n",
       "      <th>date</th>\n",
       "      <th>description</th>\n",
       "      <th>address</th>\n",
       "      <th>country</th>\n",
       "      <th>level1</th>\n",
       "      <th>level2</th>\n",
       "      <th>level3</th>\n",
       "      <th>level4</th>\n",
       "      <th>level5</th>\n",
       "      <th>level6</th>\n",
       "      <th>level7</th>\n",
       "      <th>level8</th>\n",
       "      <th>upperLevel</th>\n",
       "      <th>countryId</th>\n",
       "      <th>level1Id</th>\n",
       "      <th>level2Id</th>\n",
       "      <th>level3Id</th>\n",
       "      <th>level4Id</th>\n",
       "      <th>level5Id</th>\n",
       "      <th>level6Id</th>\n",
       "      <th>level7Id</th>\n",
       "      <th>level8Id</th>\n",
       "      <th>accuracy</th>\n",
       "      <th>latitude</th>\n",
       "      <th>longitude</th>\n",
       "      <th>zipCode</th>\n",
       "      <th>customZone</th>\n",
       "    </tr>\n",
       "  </thead>\n",
       "  <tbody>\n",
       "    <tr>\n",
       "      <th>1</th>\n",
       "      <td>2</td>\n",
       "      <td>153867863</td>\n",
       "      <td>False</td>\n",
       "      <td>tecnocasa fuenlabrada ferrocarril</td>\n",
       "      <td>916358736.0</td>\n",
       "      <td>https://www.fotocasa.es/es/comprar/vivienda/ma...</td>\n",
       "      <td>3.0</td>\n",
       "      <td>1.0</td>\n",
       "      <td>NaN</td>\n",
       "      <td>89000</td>\n",
       "      <td>2019-12-28T18:27:15.9975027Z</td>\n",
       "      <td>\"\"Agencia inmobiliaria de FUENLABRADA - zona F...</td>\n",
       "      <td>Calle Polvoranca, 6, Fuenlabrada</td>\n",
       "      <td>España</td>\n",
       "      <td>Madrid</td>\n",
       "      <td>Madrid</td>\n",
       "      <td>Zona Sur de Madrid</td>\n",
       "      <td>Fuenlabrada, Zona de</td>\n",
       "      <td>Fuenlabrada</td>\n",
       "      <td>NaN</td>\n",
       "      <td>Centro</td>\n",
       "      <td>NaN</td>\n",
       "      <td>Centro</td>\n",
       "      <td>0</td>\n",
       "      <td>0</td>\n",
       "      <td>0</td>\n",
       "      <td>0</td>\n",
       "      <td>0</td>\n",
       "      <td>0</td>\n",
       "      <td>0</td>\n",
       "      <td>0</td>\n",
       "      <td>0</td>\n",
       "      <td>1</td>\n",
       "      <td>40,28674</td>\n",
       "      <td>-3,79351</td>\n",
       "      <td>NaN</td>\n",
       "      <td>NaN</td>\n",
       "    </tr>\n",
       "    <tr>\n",
       "      <th>3</th>\n",
       "      <td>4</td>\n",
       "      <td>152776331</td>\n",
       "      <td>False</td>\n",
       "      <td>tecnocasa fuenlabrada ferrocarril</td>\n",
       "      <td>916358736.0</td>\n",
       "      <td>https://www.fotocasa.es/es/comprar/vivienda/ma...</td>\n",
       "      <td>3.0</td>\n",
       "      <td>1.0</td>\n",
       "      <td>86.0</td>\n",
       "      <td>89000</td>\n",
       "      <td>2019-12-28T18:27:15.9975027Z</td>\n",
       "      <td>Agencia inmobiliaria de FUENLABRADA - zona Fue...</td>\n",
       "      <td>Barrio San Andres, Fuenlabrada</td>\n",
       "      <td>España</td>\n",
       "      <td>Madrid</td>\n",
       "      <td>Madrid</td>\n",
       "      <td>Zona Sur de Madrid</td>\n",
       "      <td>Fuenlabrada, Zona de</td>\n",
       "      <td>Fuenlabrada</td>\n",
       "      <td>NaN</td>\n",
       "      <td>Centro</td>\n",
       "      <td>NaN</td>\n",
       "      <td>Centro</td>\n",
       "      <td>0</td>\n",
       "      <td>0</td>\n",
       "      <td>0</td>\n",
       "      <td>0</td>\n",
       "      <td>0</td>\n",
       "      <td>0</td>\n",
       "      <td>0</td>\n",
       "      <td>0</td>\n",
       "      <td>0</td>\n",
       "      <td>0</td>\n",
       "      <td>40,2853785786438</td>\n",
       "      <td>-3,79508142135624</td>\n",
       "      <td>NaN</td>\n",
       "      <td>NaN</td>\n",
       "    </tr>\n",
       "    <tr>\n",
       "      <th>85</th>\n",
       "      <td>86</td>\n",
       "      <td>153152077</td>\n",
       "      <td>False</td>\n",
       "      <td>sinergical inmobiliaria</td>\n",
       "      <td>NaN</td>\n",
       "      <td>https://www.fotocasa.es/es/comprar/vivienda/le...</td>\n",
       "      <td>1.0</td>\n",
       "      <td>1.0</td>\n",
       "      <td>50.0</td>\n",
       "      <td>107000</td>\n",
       "      <td>2019-12-28T18:30:53.960102Z</td>\n",
       "      <td>¡oportunidad! vivienda de obra nueva, local ad...</td>\n",
       "      <td>Avenida Carabancheles, 18, Alcorcón</td>\n",
       "      <td>España</td>\n",
       "      <td>Madrid</td>\n",
       "      <td>Madrid</td>\n",
       "      <td>Zona Suroeste</td>\n",
       "      <td>Alcorcón, Zona de</td>\n",
       "      <td>Alcorcón</td>\n",
       "      <td>NaN</td>\n",
       "      <td>Centro</td>\n",
       "      <td>Casco Antiguo</td>\n",
       "      <td>Casco Antiguo</td>\n",
       "      <td>0</td>\n",
       "      <td>0</td>\n",
       "      <td>0</td>\n",
       "      <td>0</td>\n",
       "      <td>0</td>\n",
       "      <td>0</td>\n",
       "      <td>0</td>\n",
       "      <td>0</td>\n",
       "      <td>0</td>\n",
       "      <td>1</td>\n",
       "      <td>40,35059</td>\n",
       "      <td>-3,82693</td>\n",
       "      <td>NaN</td>\n",
       "      <td>NaN</td>\n",
       "    </tr>\n",
       "    <tr>\n",
       "      <th>94</th>\n",
       "      <td>95</td>\n",
       "      <td>153995577</td>\n",
       "      <td>False</td>\n",
       "      <td>viviendas365com</td>\n",
       "      <td>911226014.0</td>\n",
       "      <td>https://www.fotocasa.es/es/comprar/vivienda/le...</td>\n",
       "      <td>3.0</td>\n",
       "      <td>2.0</td>\n",
       "      <td>120.0</td>\n",
       "      <td>320000</td>\n",
       "      <td>2019-12-28T18:30:53.960102Z</td>\n",
       "      <td>VIVIENDAS365-VENDE- Hermosa Vivienda en el Bar...</td>\n",
       "      <td>Avenida Los Pinos, Leganés</td>\n",
       "      <td>España</td>\n",
       "      <td>Madrid</td>\n",
       "      <td>Madrid</td>\n",
       "      <td>Zona Sur de Madrid</td>\n",
       "      <td>Leganés, Zona de</td>\n",
       "      <td>Leganés</td>\n",
       "      <td>NaN</td>\n",
       "      <td>Valdepelayo - Montepinos - Arroyo Culebro</td>\n",
       "      <td>NaN</td>\n",
       "      <td>Valdepelayo - Montepinos - Arroyo Culebro</td>\n",
       "      <td>0</td>\n",
       "      <td>0</td>\n",
       "      <td>0</td>\n",
       "      <td>0</td>\n",
       "      <td>0</td>\n",
       "      <td>0</td>\n",
       "      <td>0</td>\n",
       "      <td>0</td>\n",
       "      <td>0</td>\n",
       "      <td>0</td>\n",
       "      <td>40,31933</td>\n",
       "      <td>-3,77574</td>\n",
       "      <td>NaN</td>\n",
       "      <td>NaN</td>\n",
       "    </tr>\n",
       "    <tr>\n",
       "      <th>109</th>\n",
       "      <td>110</td>\n",
       "      <td>153586414</td>\n",
       "      <td>False</td>\n",
       "      <td>area uno asesores inmobiliarios</td>\n",
       "      <td>912664081.0</td>\n",
       "      <td>https://www.fotocasa.es/es/comprar/vivienda/ma...</td>\n",
       "      <td>3.0</td>\n",
       "      <td>3.0</td>\n",
       "      <td>142.0</td>\n",
       "      <td>425000</td>\n",
       "      <td>2019-12-28T18:32:32.5337942Z</td>\n",
       "      <td>AREA UNO asesores inmobiliarios oficina de las...</td>\n",
       "      <td>Alcorcón</td>\n",
       "      <td>España</td>\n",
       "      <td>Madrid</td>\n",
       "      <td>Madrid</td>\n",
       "      <td>Zona Suroeste</td>\n",
       "      <td>Alcorcón, Zona de</td>\n",
       "      <td>Alcorcón</td>\n",
       "      <td>NaN</td>\n",
       "      <td>Prado Santo Domingo - Ensanche</td>\n",
       "      <td>NaN</td>\n",
       "      <td>Prado Santo Domingo - Ensanche</td>\n",
       "      <td>0</td>\n",
       "      <td>0</td>\n",
       "      <td>0</td>\n",
       "      <td>0</td>\n",
       "      <td>0</td>\n",
       "      <td>0</td>\n",
       "      <td>0</td>\n",
       "      <td>0</td>\n",
       "      <td>0</td>\n",
       "      <td>0</td>\n",
       "      <td>40,3313411</td>\n",
       "      <td>-3,8313868</td>\n",
       "      <td>NaN</td>\n",
       "      <td>NaN</td>\n",
       "    </tr>\n",
       "    <tr>\n",
       "      <th>...</th>\n",
       "      <td>...</td>\n",
       "      <td>...</td>\n",
       "      <td>...</td>\n",
       "      <td>...</td>\n",
       "      <td>...</td>\n",
       "      <td>...</td>\n",
       "      <td>...</td>\n",
       "      <td>...</td>\n",
       "      <td>...</td>\n",
       "      <td>...</td>\n",
       "      <td>...</td>\n",
       "      <td>...</td>\n",
       "      <td>...</td>\n",
       "      <td>...</td>\n",
       "      <td>...</td>\n",
       "      <td>...</td>\n",
       "      <td>...</td>\n",
       "      <td>...</td>\n",
       "      <td>...</td>\n",
       "      <td>...</td>\n",
       "      <td>...</td>\n",
       "      <td>...</td>\n",
       "      <td>...</td>\n",
       "      <td>...</td>\n",
       "      <td>...</td>\n",
       "      <td>...</td>\n",
       "      <td>...</td>\n",
       "      <td>...</td>\n",
       "      <td>...</td>\n",
       "      <td>...</td>\n",
       "      <td>...</td>\n",
       "      <td>...</td>\n",
       "      <td>...</td>\n",
       "      <td>...</td>\n",
       "      <td>...</td>\n",
       "      <td>...</td>\n",
       "      <td>...</td>\n",
       "    </tr>\n",
       "    <tr>\n",
       "      <th>15275</th>\n",
       "      <td>15276</td>\n",
       "      <td>153903887</td>\n",
       "      <td>False</td>\n",
       "      <td>aliseda servicios de gestion inmobiliaria</td>\n",
       "      <td>911368198.0</td>\n",
       "      <td>https://www.fotocasa.es/es/comprar/vivienda/al...</td>\n",
       "      <td>3.0</td>\n",
       "      <td>1.0</td>\n",
       "      <td>78.0</td>\n",
       "      <td>138000</td>\n",
       "      <td>2019-12-17T19:02:00Z</td>\n",
       "      <td>Piso en Fuenlabrada, Madrid. Dispone de una su...</td>\n",
       "      <td>Urbanización Urbanización Parque Miraflores, 5...</td>\n",
       "      <td>España</td>\n",
       "      <td>Madrid</td>\n",
       "      <td>Madrid</td>\n",
       "      <td>Zona Sur de Madrid</td>\n",
       "      <td>Fuenlabrada, Zona de</td>\n",
       "      <td>Fuenlabrada</td>\n",
       "      <td>NaN</td>\n",
       "      <td>Loranca</td>\n",
       "      <td>NaN</td>\n",
       "      <td>Loranca</td>\n",
       "      <td>0</td>\n",
       "      <td>0</td>\n",
       "      <td>0</td>\n",
       "      <td>0</td>\n",
       "      <td>0</td>\n",
       "      <td>0</td>\n",
       "      <td>0</td>\n",
       "      <td>0</td>\n",
       "      <td>0</td>\n",
       "      <td>1</td>\n",
       "      <td>40,31381</td>\n",
       "      <td>-3,83733</td>\n",
       "      <td>NaN</td>\n",
       "      <td>NaN</td>\n",
       "    </tr>\n",
       "    <tr>\n",
       "      <th>15291</th>\n",
       "      <td>15292</td>\n",
       "      <td>151697757</td>\n",
       "      <td>False</td>\n",
       "      <td>unipiso</td>\n",
       "      <td>912788631.0</td>\n",
       "      <td>https://www.fotocasa.es/es/comprar/vivienda/al...</td>\n",
       "      <td>3.0</td>\n",
       "      <td>2.0</td>\n",
       "      <td>110.0</td>\n",
       "      <td>279000</td>\n",
       "      <td>2019-12-17T18:57:00Z</td>\n",
       "      <td>QUIERES VIVIR EN PLENO CENTRO,  a tan sólo 2 m...</td>\n",
       "      <td>Leganés</td>\n",
       "      <td>España</td>\n",
       "      <td>Madrid</td>\n",
       "      <td>Madrid</td>\n",
       "      <td>Zona Sur de Madrid</td>\n",
       "      <td>Leganés, Zona de</td>\n",
       "      <td>Leganés</td>\n",
       "      <td>NaN</td>\n",
       "      <td>Centro de Leganés</td>\n",
       "      <td>NaN</td>\n",
       "      <td>Centro de Leganés</td>\n",
       "      <td>0</td>\n",
       "      <td>0</td>\n",
       "      <td>0</td>\n",
       "      <td>0</td>\n",
       "      <td>0</td>\n",
       "      <td>0</td>\n",
       "      <td>0</td>\n",
       "      <td>0</td>\n",
       "      <td>0</td>\n",
       "      <td>0</td>\n",
       "      <td>40,3259051</td>\n",
       "      <td>-3,76318</td>\n",
       "      <td>NaN</td>\n",
       "      <td>NaN</td>\n",
       "    </tr>\n",
       "    <tr>\n",
       "      <th>15305</th>\n",
       "      <td>15306</td>\n",
       "      <td>153902389</td>\n",
       "      <td>False</td>\n",
       "      <td>jadein ferrero</td>\n",
       "      <td>914871639.0</td>\n",
       "      <td>https://www.fotocasa.es/es/comprar/vivienda/ma...</td>\n",
       "      <td>3.0</td>\n",
       "      <td>2.0</td>\n",
       "      <td>85.0</td>\n",
       "      <td>170000</td>\n",
       "      <td>2019-12-17T18:43:00Z</td>\n",
       "      <td>JADEIN FERRERO S.L vende excelente vivienda en...</td>\n",
       "      <td>Fuenlabrada</td>\n",
       "      <td>España</td>\n",
       "      <td>Madrid</td>\n",
       "      <td>Madrid</td>\n",
       "      <td>Zona Sur de Madrid</td>\n",
       "      <td>Fuenlabrada, Zona de</td>\n",
       "      <td>Fuenlabrada</td>\n",
       "      <td>NaN</td>\n",
       "      <td>Fuenlabrada II - El Molino</td>\n",
       "      <td>NaN</td>\n",
       "      <td>Fuenlabrada II - El Molino</td>\n",
       "      <td>0</td>\n",
       "      <td>0</td>\n",
       "      <td>0</td>\n",
       "      <td>0</td>\n",
       "      <td>0</td>\n",
       "      <td>0</td>\n",
       "      <td>0</td>\n",
       "      <td>0</td>\n",
       "      <td>0</td>\n",
       "      <td>0</td>\n",
       "      <td>40,2882193</td>\n",
       "      <td>-3,8098617</td>\n",
       "      <td>NaN</td>\n",
       "      <td>NaN</td>\n",
       "    </tr>\n",
       "    <tr>\n",
       "      <th>15322</th>\n",
       "      <td>15323</td>\n",
       "      <td>153871864</td>\n",
       "      <td>False</td>\n",
       "      <td>gestion comercial</td>\n",
       "      <td>911220662.0</td>\n",
       "      <td>https://www.fotocasa.es/es/comprar/vivienda/ma...</td>\n",
       "      <td>3.0</td>\n",
       "      <td>1.0</td>\n",
       "      <td>91.0</td>\n",
       "      <td>112000</td>\n",
       "      <td>2019-12-17T18:25:00Z</td>\n",
       "      <td>´´´´´´´´´´´´´´´´´´´´´´´´´´´´´´´´´´´´´´´´´´´´SI...</td>\n",
       "      <td>Calle Dr. Miguel de Aguado, Fuenlabrada</td>\n",
       "      <td>España</td>\n",
       "      <td>Madrid</td>\n",
       "      <td>Madrid</td>\n",
       "      <td>Zona Sur de Madrid</td>\n",
       "      <td>Fuenlabrada, Zona de</td>\n",
       "      <td>Fuenlabrada</td>\n",
       "      <td>NaN</td>\n",
       "      <td>Centro</td>\n",
       "      <td>NaN</td>\n",
       "      <td>Centro</td>\n",
       "      <td>0</td>\n",
       "      <td>0</td>\n",
       "      <td>0</td>\n",
       "      <td>0</td>\n",
       "      <td>0</td>\n",
       "      <td>0</td>\n",
       "      <td>0</td>\n",
       "      <td>0</td>\n",
       "      <td>0</td>\n",
       "      <td>0</td>\n",
       "      <td>40,28282</td>\n",
       "      <td>-3,78892</td>\n",
       "      <td>NaN</td>\n",
       "      <td>NaN</td>\n",
       "    </tr>\n",
       "    <tr>\n",
       "      <th>15325</th>\n",
       "      <td>15326</td>\n",
       "      <td>153901467</td>\n",
       "      <td>False</td>\n",
       "      <td>montehogar 68</td>\n",
       "      <td>911790675.0</td>\n",
       "      <td>https://www.fotocasa.es/es/comprar/vivienda/ma...</td>\n",
       "      <td>2.0</td>\n",
       "      <td>2.0</td>\n",
       "      <td>99.0</td>\n",
       "      <td>215000</td>\n",
       "      <td>2019-12-17T18:24:00Z</td>\n",
       "      <td>Extupendo ATICO  y magnificas viviendas muy am...</td>\n",
       "      <td>Calle de Luis Sauquillo, 77, Fuenlabrada</td>\n",
       "      <td>España</td>\n",
       "      <td>Madrid</td>\n",
       "      <td>Madrid</td>\n",
       "      <td>Zona Sur de Madrid</td>\n",
       "      <td>Fuenlabrada, Zona de</td>\n",
       "      <td>Fuenlabrada</td>\n",
       "      <td>NaN</td>\n",
       "      <td>El Arroyo - La Fuente</td>\n",
       "      <td>NaN</td>\n",
       "      <td>El Arroyo - La Fuente</td>\n",
       "      <td>0</td>\n",
       "      <td>0</td>\n",
       "      <td>0</td>\n",
       "      <td>0</td>\n",
       "      <td>0</td>\n",
       "      <td>0</td>\n",
       "      <td>0</td>\n",
       "      <td>0</td>\n",
       "      <td>0</td>\n",
       "      <td>1</td>\n",
       "      <td>40,28062</td>\n",
       "      <td>-3,79869</td>\n",
       "      <td>NaN</td>\n",
       "      <td>NaN</td>\n",
       "    </tr>\n",
       "  </tbody>\n",
       "</table>\n",
       "<p>907 rows × 37 columns</p>\n",
       "</div>"
      ],
      "text/plain": [
       "       Unnamed: 0  id_realEstates  isNew  \\\n",
       "1               2       153867863  False   \n",
       "3               4       152776331  False   \n",
       "85             86       153152077  False   \n",
       "94             95       153995577  False   \n",
       "109           110       153586414  False   \n",
       "...           ...             ...    ...   \n",
       "15275       15276       153903887  False   \n",
       "15291       15292       151697757  False   \n",
       "15305       15306       153902389  False   \n",
       "15322       15323       153871864  False   \n",
       "15325       15326       153901467  False   \n",
       "\n",
       "                                 realEstate_name  phone_realEstate  \\\n",
       "1              tecnocasa fuenlabrada ferrocarril       916358736.0   \n",
       "3              tecnocasa fuenlabrada ferrocarril       916358736.0   \n",
       "85                       sinergical inmobiliaria               NaN   \n",
       "94                               viviendas365com       911226014.0   \n",
       "109              area uno asesores inmobiliarios       912664081.0   \n",
       "...                                          ...               ...   \n",
       "15275  aliseda servicios de gestion inmobiliaria       911368198.0   \n",
       "15291                                    unipiso       912788631.0   \n",
       "15305                             jadein ferrero       914871639.0   \n",
       "15322                          gestion comercial       911220662.0   \n",
       "15325                              montehogar 68       911790675.0   \n",
       "\n",
       "                                            url_inmueble  rooms  bathrooms  \\\n",
       "1      https://www.fotocasa.es/es/comprar/vivienda/ma...    3.0        1.0   \n",
       "3      https://www.fotocasa.es/es/comprar/vivienda/ma...    3.0        1.0   \n",
       "85     https://www.fotocasa.es/es/comprar/vivienda/le...    1.0        1.0   \n",
       "94     https://www.fotocasa.es/es/comprar/vivienda/le...    3.0        2.0   \n",
       "109    https://www.fotocasa.es/es/comprar/vivienda/ma...    3.0        3.0   \n",
       "...                                                  ...    ...        ...   \n",
       "15275  https://www.fotocasa.es/es/comprar/vivienda/al...    3.0        1.0   \n",
       "15291  https://www.fotocasa.es/es/comprar/vivienda/al...    3.0        2.0   \n",
       "15305  https://www.fotocasa.es/es/comprar/vivienda/ma...    3.0        2.0   \n",
       "15322  https://www.fotocasa.es/es/comprar/vivienda/ma...    3.0        1.0   \n",
       "15325  https://www.fotocasa.es/es/comprar/vivienda/ma...    2.0        2.0   \n",
       "\n",
       "       surface   price                          date  \\\n",
       "1          NaN   89000  2019-12-28T18:27:15.9975027Z   \n",
       "3         86.0   89000  2019-12-28T18:27:15.9975027Z   \n",
       "85        50.0  107000   2019-12-28T18:30:53.960102Z   \n",
       "94       120.0  320000   2019-12-28T18:30:53.960102Z   \n",
       "109      142.0  425000  2019-12-28T18:32:32.5337942Z   \n",
       "...        ...     ...                           ...   \n",
       "15275     78.0  138000          2019-12-17T19:02:00Z   \n",
       "15291    110.0  279000          2019-12-17T18:57:00Z   \n",
       "15305     85.0  170000          2019-12-17T18:43:00Z   \n",
       "15322     91.0  112000          2019-12-17T18:25:00Z   \n",
       "15325     99.0  215000          2019-12-17T18:24:00Z   \n",
       "\n",
       "                                             description  \\\n",
       "1      \"\"Agencia inmobiliaria de FUENLABRADA - zona F...   \n",
       "3      Agencia inmobiliaria de FUENLABRADA - zona Fue...   \n",
       "85     ¡oportunidad! vivienda de obra nueva, local ad...   \n",
       "94     VIVIENDAS365-VENDE- Hermosa Vivienda en el Bar...   \n",
       "109    AREA UNO asesores inmobiliarios oficina de las...   \n",
       "...                                                  ...   \n",
       "15275  Piso en Fuenlabrada, Madrid. Dispone de una su...   \n",
       "15291  QUIERES VIVIR EN PLENO CENTRO,  a tan sólo 2 m...   \n",
       "15305  JADEIN FERRERO S.L vende excelente vivienda en...   \n",
       "15322  ´´´´´´´´´´´´´´´´´´´´´´´´´´´´´´´´´´´´´´´´´´´´SI...   \n",
       "15325  Extupendo ATICO  y magnificas viviendas muy am...   \n",
       "\n",
       "                                                 address country  level1  \\\n",
       "1                       Calle Polvoranca, 6, Fuenlabrada  España  Madrid   \n",
       "3                         Barrio San Andres, Fuenlabrada  España  Madrid   \n",
       "85                   Avenida Carabancheles, 18, Alcorcón  España  Madrid   \n",
       "94                            Avenida Los Pinos, Leganés  España  Madrid   \n",
       "109                                             Alcorcón  España  Madrid   \n",
       "...                                                  ...     ...     ...   \n",
       "15275  Urbanización Urbanización Parque Miraflores, 5...  España  Madrid   \n",
       "15291                                            Leganés  España  Madrid   \n",
       "15305                                        Fuenlabrada  España  Madrid   \n",
       "15322            Calle Dr. Miguel de Aguado, Fuenlabrada  España  Madrid   \n",
       "15325           Calle de Luis Sauquillo, 77, Fuenlabrada  España  Madrid   \n",
       "\n",
       "       level2              level3                level4       level5 level6  \\\n",
       "1      Madrid  Zona Sur de Madrid  Fuenlabrada, Zona de  Fuenlabrada    NaN   \n",
       "3      Madrid  Zona Sur de Madrid  Fuenlabrada, Zona de  Fuenlabrada    NaN   \n",
       "85     Madrid       Zona Suroeste     Alcorcón, Zona de     Alcorcón    NaN   \n",
       "94     Madrid  Zona Sur de Madrid      Leganés, Zona de      Leganés    NaN   \n",
       "109    Madrid       Zona Suroeste     Alcorcón, Zona de     Alcorcón    NaN   \n",
       "...       ...                 ...                   ...          ...    ...   \n",
       "15275  Madrid  Zona Sur de Madrid  Fuenlabrada, Zona de  Fuenlabrada    NaN   \n",
       "15291  Madrid  Zona Sur de Madrid      Leganés, Zona de      Leganés    NaN   \n",
       "15305  Madrid  Zona Sur de Madrid  Fuenlabrada, Zona de  Fuenlabrada    NaN   \n",
       "15322  Madrid  Zona Sur de Madrid  Fuenlabrada, Zona de  Fuenlabrada    NaN   \n",
       "15325  Madrid  Zona Sur de Madrid  Fuenlabrada, Zona de  Fuenlabrada    NaN   \n",
       "\n",
       "                                          level7         level8  \\\n",
       "1                                         Centro            NaN   \n",
       "3                                         Centro            NaN   \n",
       "85                                        Centro  Casco Antiguo   \n",
       "94     Valdepelayo - Montepinos - Arroyo Culebro            NaN   \n",
       "109               Prado Santo Domingo - Ensanche            NaN   \n",
       "...                                          ...            ...   \n",
       "15275                                    Loranca            NaN   \n",
       "15291                          Centro de Leganés            NaN   \n",
       "15305                 Fuenlabrada II - El Molino            NaN   \n",
       "15322                                     Centro            NaN   \n",
       "15325                      El Arroyo - La Fuente            NaN   \n",
       "\n",
       "                                      upperLevel  countryId  level1Id  \\\n",
       "1                                         Centro          0         0   \n",
       "3                                         Centro          0         0   \n",
       "85                                 Casco Antiguo          0         0   \n",
       "94     Valdepelayo - Montepinos - Arroyo Culebro          0         0   \n",
       "109               Prado Santo Domingo - Ensanche          0         0   \n",
       "...                                          ...        ...       ...   \n",
       "15275                                    Loranca          0         0   \n",
       "15291                          Centro de Leganés          0         0   \n",
       "15305                 Fuenlabrada II - El Molino          0         0   \n",
       "15322                                     Centro          0         0   \n",
       "15325                      El Arroyo - La Fuente          0         0   \n",
       "\n",
       "       level2Id  level3Id  level4Id  level5Id  level6Id  level7Id  level8Id  \\\n",
       "1             0         0         0         0         0         0         0   \n",
       "3             0         0         0         0         0         0         0   \n",
       "85            0         0         0         0         0         0         0   \n",
       "94            0         0         0         0         0         0         0   \n",
       "109           0         0         0         0         0         0         0   \n",
       "...         ...       ...       ...       ...       ...       ...       ...   \n",
       "15275         0         0         0         0         0         0         0   \n",
       "15291         0         0         0         0         0         0         0   \n",
       "15305         0         0         0         0         0         0         0   \n",
       "15322         0         0         0         0         0         0         0   \n",
       "15325         0         0         0         0         0         0         0   \n",
       "\n",
       "       accuracy          latitude          longitude  zipCode  customZone  \n",
       "1             1          40,28674           -3,79351      NaN         NaN  \n",
       "3             0  40,2853785786438  -3,79508142135624      NaN         NaN  \n",
       "85            1          40,35059           -3,82693      NaN         NaN  \n",
       "94            0          40,31933           -3,77574      NaN         NaN  \n",
       "109           0        40,3313411         -3,8313868      NaN         NaN  \n",
       "...         ...               ...                ...      ...         ...  \n",
       "15275         1          40,31381           -3,83733      NaN         NaN  \n",
       "15291         0        40,3259051           -3,76318      NaN         NaN  \n",
       "15305         0        40,2882193         -3,8098617      NaN         NaN  \n",
       "15322         0          40,28282           -3,78892      NaN         NaN  \n",
       "15325         1          40,28062           -3,79869      NaN         NaN  \n",
       "\n",
       "[907 rows x 37 columns]"
      ]
     },
     "execution_count": 12,
     "metadata": {},
     "output_type": "execute_result"
    }
   ],
   "source": [
    "belt = ['Fuenlabrada', 'Leganés', 'Getafe', 'Alcorcón']\n",
    "south_belt = ds[ds['level5'].isin(belt)]\n",
    "south_belt"
   ]
  },
  {
   "attachments": {},
   "cell_type": "markdown",
   "id": "090a6a3e",
   "metadata": {},
   "source": [
    "#### Make a bar plot of the median of prices (★★★) "
   ]
  },
  {
   "cell_type": "code",
   "execution_count": 27,
   "id": "68aec11c",
   "metadata": {},
   "outputs": [
    {
     "data": {
      "image/png": "[encoded data removed]",
      "text/plain": [
       "<Figure size 640x480 with 1 Axes>"
      ]
     },
     "metadata": {},
     "output_type": "display_data"
    },
    {
     "name": "stdout",
     "output_type": "stream",
     "text": [
      "level5\n",
      "Alcorcón       179500.0\n",
      "Fuenlabrada    155000.0\n",
      "Getafe         285305.0\n",
      "Leganés        169950.0\n",
      "Name: price, dtype: float64\n",
      "223094.48070562293\n"
     ]
    },
    {
     "data": {
      "text/plain": [
       "level5\n",
       "Alcorcón       [[Axes(0.125,0.11;0.775x0.77)]]\n",
       "Fuenlabrada    [[Axes(0.125,0.11;0.775x0.77)]]\n",
       "Getafe         [[Axes(0.125,0.11;0.775x0.77)]]\n",
       "Leganés        [[Axes(0.125,0.11;0.775x0.77)]]\n",
       "dtype: object"
      ]
     },
     "execution_count": 27,
     "metadata": {},
     "output_type": "execute_result"
    },
    {
     "data": {
      "image/png": "[encoded data removed]",
      "text/plain": [
       "<Figure size 640x480 with 1 Axes>"
      ]
     },
     "metadata": {},
     "output_type": "display_data"
    },
    {
     "data": {
      "image/png": "[encoded data removed]",
      "text/plain": [
       "<Figure size 640x480 with 1 Axes>"
      ]
     },
     "metadata": {},
     "output_type": "display_data"
    },
    {
     "data": {
      "image/png": "[encoded data removed]",
      "text/plain": [
       "<Figure size 640x480 with 1 Axes>"
      ]
     },
     "metadata": {},
     "output_type": "display_data"
    },
    {
     "data": {
      "image/png": "[encoded data removed]",
      "text/plain": [
       "<Figure size 640x480 with 1 Axes>"
      ]
     },
     "metadata": {},
     "output_type": "display_data"
    }
   ],
   "source": [
    "import matplotlib.pyplot as plt  \n",
    "\n",
    "median_prices = south_belt.groupby('level5')['price'].median()\n",
    "\n",
    "plt.bar(median_prices.index, median_prices.values)\n",
    "plt.xlabel('Population')\n",
    "plt.ylabel('Median Price')\n",
    "plt.title('Median Prices of Different Populations')\n",
    "plt.xticks(rotation=45)\n",
    "plt.tight_layout()\n",
    "plt.show()\n",
    "\n",
    "\n",
    "print(median_prices)\n",
    "print(south_belt['price'].mean())\n",
    "\n",
    "south_belt.groupby('level5').hist('price')"
   ]
  },
  {
   "attachments": {},
   "cell_type": "markdown",
   "id": "18f67373",
   "metadata": {},
   "source": [
    "#### Calculate the sample mean and variance of the variables: price, rooms, surface area and bathrooms (★★★) "
   ]
  },
  {
   "cell_type": "code",
   "execution_count": 14,
   "id": "8d068061",
   "metadata": {},
   "outputs": [
    {
     "name": "stdout",
     "output_type": "stream",
     "text": [
      "Sample mean:\n",
      "Price: 477303.56641669385\n",
      "Rooms: 3.2316112668535575\n",
      "Surface Area: 196.91643592474264\n",
      "Bathrooms: 2.150233488992662\n",
      "\n",
      "Sample variance:\n",
      "Price: 349628868677.4539\n",
      "Rooms: 1.9407455379492797\n",
      "Surface Area: 4764433.8520764755\n",
      "Bathrooms: 1.669469222949398\n"
     ]
    }
   ],
   "source": [
    "# Calculate the sample mean\n",
    "mean_price = ds['price'].mean()\n",
    "mean_rooms = ds['rooms'].mean()\n",
    "mean_surface_area = ds['surface'].mean()\n",
    "mean_bathrooms = ds['bathrooms'].mean()\n",
    "\n",
    "# Calculate the sample variance\n",
    "var_price = ds['price'].var()\n",
    "var_rooms = ds['rooms'].var()\n",
    "var_surface_area = ds['surface'].var()\n",
    "var_bathrooms = ds['bathrooms'].var()\n",
    "\n",
    "print(\"Sample mean:\")\n",
    "print(\"Price:\", mean_price)\n",
    "print(\"Rooms:\", mean_rooms)\n",
    "print(\"Surface Area:\", mean_surface_area)\n",
    "print(\"Bathrooms:\", mean_bathrooms)\n",
    "\n",
    "print(\"\\nSample variance:\")\n",
    "print(\"Price:\", var_price)\n",
    "print(\"Rooms:\", var_rooms)\n",
    "print(\"Surface Area:\", var_surface_area)\n",
    "print(\"Bathrooms:\", var_bathrooms)"
   ]
  },
  {
   "attachments": {},
   "cell_type": "markdown",
   "id": "95cfde61",
   "metadata": {},
   "source": [
    "#### What is the most expensive home of each population? (★★☆) "
   ]
  },
  {
   "cell_type": "code",
   "execution_count": 15,
   "id": "1c29f78c",
   "metadata": {},
   "outputs": [
    {
     "data": {
      "text/plain": [
       "level5\n",
       " Madrid Capital          8000000\n",
       "Ajalvir                   345000\n",
       "Alcalá de Henares         850000\n",
       "Alcobendas               8000000\n",
       "Alcorcón                  950000\n",
       "                          ...   \n",
       "Villar del Olmo           280000\n",
       "Villarejo de Salvanés     226000\n",
       "Villaviciosa de Odón     1900000\n",
       "Villavieja del Lozoya     260000\n",
       "Zarzalejo                 199000\n",
       "Name: price, Length: 168, dtype: int64"
      ]
     },
     "execution_count": 15,
     "metadata": {},
     "output_type": "execute_result"
    }
   ],
   "source": [
    "ds.groupby('level5')['price'].max()"
   ]
  },
  {
   "attachments": {},
   "cell_type": "markdown",
   "id": "ea67579b",
   "metadata": {},
   "source": [
    "#### Normalize the variable of prices for each population and plot the 4 histograms in the same plot (★★★) "
   ]
  },
  {
   "cell_type": "code",
   "execution_count": 16,
   "id": "385ad99c",
   "metadata": {},
   "outputs": [
    {
     "data": {
      "image/png": "[encoded data removed]",
      "text/plain": [
       "<Figure size 1200x400 with 4 Axes>"
      ]
     },
     "metadata": {},
     "output_type": "display_data"
    }
   ],
   "source": [
    "from sklearn.preprocessing import StandardScaler\n",
    "import matplotlib.pyplot as plt\n",
    "\n",
    "populations = south_belt['level5'].unique()\n",
    "fig, axs = plt.subplots(1, len(populations), figsize=(12, 4), sharey=True)\n",
    "\n",
    "for i, pop in enumerate(populations):\n",
    "    # Select data for the current population\n",
    "    pop_data = south_belt[south_belt['level5'] == pop]['price'].values.reshape(-1, 1)\n",
    "    \n",
    "    # Normalize prices within each population using StandardScaler\n",
    "    scaler = StandardScaler()\n",
    "    normalized_prices = scaler.fit_transform(pop_data)\n",
    "    \n",
    "    # Plot the histogram\n",
    "    axs[i].hist(normalized_prices, bins=10, alpha=0.7)\n",
    "    axs[i].set_title(f'Population {pop}')\n",
    "    axs[i].set_xlabel('Normalized Price')\n",
    "\n",
    "plt.tight_layout()\n",
    "plt.show()"
   ]
  },
  {
   "attachments": {},
   "cell_type": "markdown",
   "id": "2ec1bd5c",
   "metadata": {},
   "source": [
    "#### Make a plot of the coordinates (lat and long) of the south belt of Madrid by color of each population (★★★★) \n",
    "This is a extremely hard exercise and we highly recommend to do it at the end of everything"
   ]
  },
  {
   "cell_type": "code",
   "execution_count": 17,
   "id": "312aac99",
   "metadata": {},
   "outputs": [
    {
     "data": {
      "application/vnd.jupyter.widget-view+json": {
       "model_id": "a27f5bcd3b0845d3902ab744fdb3006f",
       "version_major": 2,
       "version_minor": 0
      },
      "text/plain": [
       "Map(center=[60, -2.2], controls=(ZoomControl(options=['position', 'zoom_in_text', 'zoom_in_title', 'zoom_out_t…"
      ]
     },
     "execution_count": 17,
     "metadata": {},
     "output_type": "execute_result"
    }
   ],
   "source": [
    "# Run in console the following command before run the rest of code:\n",
    "# jupyter nbextension enable --py --sys-prefix ipyleaflet\n",
    "\n",
    "from ipyleaflet import Map, basemaps\n",
    "\n",
    "# Map centred on (60 degrees latitude et -2.2 degrees longitude)\n",
    "# Latitude, longitude\n",
    "map = Map(center = (60, -2.2), zoom = 2, min_zoom = 1, max_zoom = 20, \n",
    "    basemap=basemaps.Stamen.Terrain)\n",
    "map"
   ]
  },
  {
   "cell_type": "code",
   "execution_count": 18,
   "id": "f7931ec0",
   "metadata": {},
   "outputs": [
    {
     "data": {
      "application/vnd.jupyter.widget-view+json": {
       "model_id": "a27f5bcd3b0845d3902ab744fdb3006f",
       "version_major": 2,
       "version_minor": 0
      },
      "text/plain": [
       "Map(center=[60, -2.2], controls=(ZoomControl(options=['position', 'zoom_in_text', 'zoom_in_title', 'zoom_out_t…"
      ]
     },
     "execution_count": 18,
     "metadata": {},
     "output_type": "execute_result"
    }
   ],
   "source": [
    "## HERE: plot the coordinates of the estates\n",
    "\n",
    "## PUT HERE YOUR CODE:\n",
    "# Import necessary libraries\n",
    "from ipyleaflet import Marker, AwesomeIcon\n",
    "\n",
    "# List of values to subset\n",
    "populations = [\"Fuenlabrada\", \"Leganés\", \"Getafe\", \"Alcorcón\"]\n",
    "\n",
    "# Define a dictionary to map values to marker colors\n",
    "color_dict = {\"Fuenlabrada\": \"blue\", \"Leganés\": \"green\", \"Getafe\": \"red\", \"Alcorcón\": \"purple\"}\n",
    "\n",
    "# Create a boolean mask for filtering\n",
    "mask = ds['level5'].isin(populations)\n",
    "\n",
    "# Apply the mask to the DataFrame to create the subset\n",
    "subset_df = ds[mask]\n",
    "\n",
    "# Filter out rows with 0 latitude and 0 longitude\n",
    "subset_df = subset_df[(subset_df['latitude'] != '0') & (subset_df['longitude'] != '0')]\n",
    "\n",
    "# Use list comprehension to create tuples from latitude and longitude columns\n",
    "lat_list = [float(lat.replace(',', '.')) for lat in subset_df['latitude']]\n",
    "long_list = [float(long.replace(',', '.')) for long in subset_df['longitude']]\n",
    "\n",
    "\n",
    "# Loop through the latitude and longitude lists and add markers to the map\n",
    "for i, (lat, long) in enumerate(zip(lat_list, long_list)):\n",
    "    population = subset_df.iloc[i]['level5']\n",
    "    color = color_dict.get(population, \"black\") \n",
    "    marker = Marker(location=(lat, long), icon=AwesomeIcon(name='house', marker_color=color), draggable=False)\n",
    "    map.add_layer(marker)\n",
    "\n",
    "# Display the map\n",
    "map\n"
   ]
  },
  {
   "attachments": {},
   "cell_type": "markdown",
   "id": "b22874b7",
   "metadata": {},
   "source": [
    "#### What can you say about the price per square meter between the towns of Getafe and Alcorcón?"
   ]
  },
  {
   "cell_type": "code",
   "execution_count": 19,
   "id": "e0ef506b",
   "metadata": {},
   "outputs": [
    {
     "name": "stdout",
     "output_type": "stream",
     "text": [
      "          count         mean         std         min          25%  \\\n",
      "level5                                                              \n",
      "Alcorcón  173.0  2239.302480  539.951527  604.761905  1904.081633   \n",
      "Getafe    241.0  2066.314949  741.872702    0.000000  1684.285714   \n",
      "\n",
      "                  50%          75%          max  \n",
      "level5                                           \n",
      "Alcorcón  2207.792208  2472.727273  3698.159509  \n",
      "Getafe    1973.333333  2628.787879  3827.160494  \n",
      "T-statistic: nan\n",
      "P-value: nan\n"
     ]
    },
    {
     "name": "stderr",
     "output_type": "stream",
     "text": [
      "/tmp/ipykernel_1594/367351995.py:7: SettingWithCopyWarning: \n",
      "A value is trying to be set on a copy of a slice from a DataFrame.\n",
      "Try using .loc[row_indexer,col_indexer] = value instead\n",
      "\n",
      "See the caveats in the documentation: https://pandas.pydata.org/pandas-docs/stable/user_guide/indexing.html#returning-a-view-versus-a-copy\n",
      "  town_belt['price_m2'] = town_belt['price']/town_belt['surface']\n"
     ]
    },
    {
     "data": {
      "text/plain": [
       "<Figure size 800x600 with 0 Axes>"
      ]
     },
     "metadata": {},
     "output_type": "display_data"
    },
    {
     "data": {
      "image/png": "[encoded data removed]",
      "text/plain": [
       "<Figure size 640x480 with 1 Axes>"
      ]
     },
     "metadata": {},
     "output_type": "display_data"
    }
   ],
   "source": [
    "from scipy.stats import ttest_ind\n",
    "\n",
    "towns = ['Getafe', 'Alcorcón']\n",
    "\n",
    "town_belt = ds[ds['level5'].isin(towns)]\n",
    "\n",
    "town_belt['price_m2'] = town_belt['price']/town_belt['surface']\n",
    "\n",
    "summary_stats = town_belt.groupby('level5')['price_m2'].describe()\n",
    "\n",
    "print(summary_stats)\n",
    "\n",
    "# T-test\n",
    "getafe_prices = town_belt[town_belt['level5'] == 'Getafe']['price_m2']\n",
    "alcorcon_prices = town_belt[town_belt['level5'] == 'Alcorcón']['price_m2']\n",
    "t_statistic, p_value = ttest_ind(getafe_prices, alcorcon_prices)\n",
    "\n",
    "print(\"T-statistic:\", t_statistic)\n",
    "print(\"P-value:\", p_value)\n",
    "\n",
    "# Visualization\n",
    "plt.figure(figsize=(8, 6))\n",
    "town_belt.boxplot(column='price_m2', by='level5', grid=False)\n",
    "plt.title(\"Price per Square Meter Comparison\")\n",
    "plt.suptitle(\"\")  # Remove the automatic title\n",
    "plt.xlabel(\"Town\")\n",
    "plt.ylabel(\"Price per Square Meter\")\n",
    "plt.show()\n"
   ]
  },
  {
   "attachments": {},
   "cell_type": "markdown",
   "id": "a4376b3f",
   "metadata": {},
   "source": [
    "#### Reload the data, is the average of \"Valdemorillo\" and \"Galapagar\" prices the same?"
   ]
  },
  {
   "cell_type": "code",
   "execution_count": 20,
   "id": "37dbaf65",
   "metadata": {},
   "outputs": [
    {
     "name": "stdout",
     "output_type": "stream",
     "text": [
      "              count         mean         std         min          25%  \\\n",
      "level5                                                                  \n",
      "Galapagar      75.0  1606.324030  482.943506  162.305725  1342.592593   \n",
      "Valdemorillo   53.0  1317.950211  511.697215  347.727273   983.333333   \n",
      "\n",
      "                      50%          75%     max  \n",
      "level5                                          \n",
      "Galapagar     1514.925373  1756.756757  3175.0  \n",
      "Valdemorillo  1300.983607  1626.016260  2700.0  \n"
     ]
    },
    {
     "name": "stderr",
     "output_type": "stream",
     "text": [
      "/tmp/ipykernel_1594/2586130722.py:5: SettingWithCopyWarning: \n",
      "A value is trying to be set on a copy of a slice from a DataFrame.\n",
      "Try using .loc[row_indexer,col_indexer] = value instead\n",
      "\n",
      "See the caveats in the documentation: https://pandas.pydata.org/pandas-docs/stable/user_guide/indexing.html#returning-a-view-versus-a-copy\n",
      "  town_belt['price_m2'] = town_belt['price']/town_belt['surface']\n"
     ]
    }
   ],
   "source": [
    "towns = ['Valdemorillo', 'Galapagar']\n",
    "\n",
    "town_belt = ds[ds['level5'].isin(towns)]\n",
    "\n",
    "town_belt['price_m2'] = town_belt['price']/town_belt['surface']\n",
    "\n",
    "summary_stats = town_belt.groupby('level5')['price_m2'].describe()\n",
    "\n",
    "print(summary_stats)"
   ]
  },
  {
   "cell_type": "markdown",
   "id": "aa6bd399",
   "metadata": {},
   "source": [
    "No, and there seems to be a larger difference than between Getafe and Alcorcón, by that metric."
   ]
  },
  {
   "attachments": {},
   "cell_type": "markdown",
   "id": "b6af45ec",
   "metadata": {},
   "source": [
    "#### What happens if we do the same analysis for price/m2 (★★☆) "
   ]
  },
  {
   "cell_type": "code",
   "execution_count": 21,
   "id": "8231d73e",
   "metadata": {},
   "outputs": [
    {
     "name": "stdout",
     "output_type": "stream",
     "text": [
      "T-statistic: nan\n",
      "P-value: nan\n"
     ]
    },
    {
     "data": {
      "text/plain": [
       "<Figure size 800x600 with 0 Axes>"
      ]
     },
     "metadata": {},
     "output_type": "display_data"
    },
    {
     "data": {
      "image/png": "[encoded data removed]",
      "text/plain": [
       "<Figure size 640x480 with 1 Axes>"
      ]
     },
     "metadata": {},
     "output_type": "display_data"
    }
   ],
   "source": [
    "# T-test\n",
    "valdemorillo_prices = town_belt[town_belt['level5'] == 'Valdemorillo']['price_m2']\n",
    "galapagar_prices = town_belt[town_belt['level5'] == 'Galapagar']['price_m2']\n",
    "t_statistic, p_value = ttest_ind(valdemorillo_prices, galapagar_prices)\n",
    "\n",
    "print(\"T-statistic:\", t_statistic)\n",
    "print(\"P-value:\", p_value)\n",
    "\n",
    "# Visualization\n",
    "plt.figure(figsize=(8, 6))\n",
    "town_belt.boxplot(column='price_m2', by='level5', grid=False)\n",
    "plt.title(\"Price per Square Meter Comparison\")\n",
    "plt.suptitle(\"\")  # Remove the automatic title\n",
    "plt.xlabel(\"Town\")\n",
    "plt.ylabel(\"Price per Square Meter\")\n",
    "plt.show()"
   ]
  },
  {
   "cell_type": "markdown",
   "id": "3fe4734e",
   "metadata": {},
   "source": [
    "The boxplots seem to be more similar, which means that the price per square meter have a similar range between the two regions, even though the medians are different."
   ]
  },
  {
   "attachments": {},
   "cell_type": "markdown",
   "id": "2d40e202",
   "metadata": {},
   "source": [
    "#### Could you say there is a relation between surface and price? (★★☆) \n",
    "Hint: make a scatter plot."
   ]
  },
  {
   "cell_type": "code",
   "execution_count": 22,
   "id": "405462e1",
   "metadata": {},
   "outputs": [
    {
     "data": {
      "image/png": "[encoded data removed]",
      "text/plain": [
       "<Figure size 800x600 with 1 Axes>"
      ]
     },
     "metadata": {},
     "output_type": "display_data"
    }
   ],
   "source": [
    "plt.figure(figsize=(8, 6))\n",
    "ds2 = ds[ds['surface'] < 10000] #Had to do this to get a more readable plot, there are mansions in this dataset\n",
    "plt.scatter(ds2['surface'], ds2['price'])\n",
    "plt.title(\"Scatter Plot of Surface Area vs. Price\")\n",
    "plt.xlabel(\"Surface Area\")\n",
    "plt.ylabel(\"Price\")\n",
    "plt.grid(True)\n",
    "plt.show()"
   ]
  },
  {
   "cell_type": "markdown",
   "id": "d63aa04e",
   "metadata": {},
   "source": [
    "You could make a linear correlation that generally describes the price increase in relation to surface area, barring some few outliers. "
   ]
  },
  {
   "attachments": {},
   "cell_type": "markdown",
   "id": "3275db77",
   "metadata": {},
   "source": [
    "#### Make the same plot for 4 different populations (level5) and rearrange them on the same graph? (★★☆) \n",
    "Hint: make a scatter plot of each population using subplots."
   ]
  },
  {
   "cell_type": "code",
   "execution_count": 23,
   "id": "e08292ff",
   "metadata": {},
   "outputs": [
    {
     "data": {
      "image/png": "[encoded data removed]",
      "text/plain": [
       "<Figure size 1500x500 with 4 Axes>"
      ]
     },
     "metadata": {},
     "output_type": "display_data"
    }
   ],
   "source": [
    "# let's do for the first 4 unique populations:\n",
    "\n",
    "fig, axes = plt.subplots(1, 4, figsize=(15, 5))\n",
    "\n",
    "populations = list(ds['level5'].unique())\n",
    "\n",
    "i = 0\n",
    "\n",
    "for pop in populations[:4]:\n",
    "    pop_data = ds[ds['level5'] == pop]\n",
    "    axes[i].scatter(pop_data['surface'], pop_data['price'])\n",
    "    axes[i].set_title(f\"Population {pop}\")\n",
    "    axes[i].set_xlabel(\"Surface Area\")\n",
    "    axes[i].set_ylabel(\"Price\")\n",
    "    i += 1\n",
    "\n",
    "plt.tight_layout()\n",
    "plt.show()"
   ]
  },
  {
   "attachments": {},
   "cell_type": "markdown",
   "id": "522c6bd9",
   "metadata": {},
   "source": [
    "#### How many  real estate agencies the dataset contains? (★★☆) "
   ]
  },
  {
   "cell_type": "code",
   "execution_count": 24,
   "id": "014ec6c8",
   "metadata": {},
   "outputs": [
    {
     "data": {
      "text/plain": [
       "1822"
      ]
     },
     "execution_count": 24,
     "metadata": {},
     "output_type": "execute_result"
    }
   ],
   "source": [
    "len(ds['realEstate_name'].unique())"
   ]
  },
  {
   "attachments": {},
   "cell_type": "markdown",
   "id": "899a101e",
   "metadata": {},
   "source": [
    "#### What is the population (level 5) that contains the most houses? (★★☆) "
   ]
  },
  {
   "cell_type": "code",
   "execution_count": 25,
   "id": "9e8b34ba",
   "metadata": {},
   "outputs": [
    {
     "name": "stdout",
     "output_type": "stream",
     "text": [
      "Population with the most houses:  Madrid Capital\n"
     ]
    }
   ],
   "source": [
    "house_per_pop = ds.groupby('level5')['id_realEstates'].count()\n",
    "\n",
    "maximum = house_per_pop.idxmax()\n",
    "\n",
    "print(\"Population with the most houses:\", maximum)"
   ]
  }
 ],
 "metadata": {
  "kernelspec": {
   "display_name": "Python 3",
   "language": "python",
   "name": "python3"
  },
  "language_info": {
   "codemirror_mode": {
    "name": "ipython",
    "version": 3
   },
   "file_extension": ".py",
   "mimetype": "text/x-python",
   "name": "python",
   "nbconvert_exporter": "python",
   "pygments_lexer": "ipython3",
   "version": "3.11.4"
  }
 },
 "nbformat": 4,
 "nbformat_minor": 5
}
